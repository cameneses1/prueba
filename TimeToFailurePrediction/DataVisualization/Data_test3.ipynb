{
 "cells": [
  {
   "cell_type": "markdown",
   "id": "fitted-anthony",
   "metadata": {},
   "source": [
    "### Save data from test 3 dataset (NASA)"
   ]
  },
  {
   "cell_type": "code",
   "execution_count": 1,
   "id": "honey-morgan",
   "metadata": {},
   "outputs": [],
   "source": [
    "import numpy as np\n",
    "import scipy.io as sio\n",
    "import pandas as pd\n",
    "from os import listdir"
   ]
  },
  {
   "cell_type": "code",
   "execution_count": null,
   "id": "adequate-concept",
   "metadata": {},
   "outputs": [],
   "source": [
    "signals_Ch1 = []\n",
    "signals_Ch2 = []\n",
    "signals_Ch3 = []\n",
    "signals_Ch4 = []\n",
    "n_files = len(listdir(\"../3rd_test\"))\n",
    "cont = 0\n",
    "for file in listdir(\"../3rd_test\"):\n",
    "    file = '../3rd_test/' + file\n",
    "    df = pd.read_csv(file, sep = '\\t', header = None)\n",
    "    df.columns = ['Ch1', 'Ch2', 'Ch3', 'Ch4']\n",
    "    cont += 1\n",
    "    print(str(cont) + ' files read out of ' + str(n_files))\n",
    "    signals_Ch1.append(df.Ch1.values)\n",
    "    signals_Ch2.append(df.Ch2.values)\n",
    "    signals_Ch3.append(df.Ch3.values)\n",
    "    signals_Ch4.append(df.Ch4.values)"
   ]
  },
  {
   "cell_type": "code",
   "execution_count": null,
   "id": "entitled-radius",
   "metadata": {},
   "outputs": [],
   "source": [
    "signals_test3 = pd.DataFrame({'Ch1': signals_Ch1, 'Ch2': signals_Ch2, 'Ch3': signals_Ch3, 'Ch4': signals_Ch4})\n",
    "signals_test3"
   ]
  },
  {
   "cell_type": "markdown",
   "id": "sticky-sustainability",
   "metadata": {},
   "source": [
    "#### We group all data by channel:"
   ]
  },
  {
   "cell_type": "code",
   "execution_count": null,
   "id": "anonymous-rocket",
   "metadata": {},
   "outputs": [],
   "source": [
    "canal1 = signals_test3['Ch1']\n",
    "canal1 = np.concatenate(canal1[0:])"
   ]
  },
  {
   "cell_type": "code",
   "execution_count": null,
   "id": "basic-canyon",
   "metadata": {},
   "outputs": [],
   "source": [
    "canal2 = signals_test3['Ch2']\n",
    "canal2 = np.concatenate(canal2[0:])"
   ]
  },
  {
   "cell_type": "code",
   "execution_count": null,
   "id": "loose-immunology",
   "metadata": {},
   "outputs": [],
   "source": [
    "canal3 = signals_test3['Ch3']\n",
    "canal3 = np.concatenate(canal3[0:])"
   ]
  },
  {
   "cell_type": "code",
   "execution_count": null,
   "id": "incomplete-dayton",
   "metadata": {},
   "outputs": [],
   "source": [
    "canal4 = signals_test3['Ch4']\n",
    "canal4 = np.concatenate(canal4[0:])"
   ]
  },
  {
   "cell_type": "code",
   "execution_count": null,
   "id": "powered-queensland",
   "metadata": {},
   "outputs": [],
   "source": [
    "sio.savemat('./DataSignals/signals_test3_channels.mat', {'Ch1': canal1, 'Ch2': canal2, 'Ch3': canal3, 'Ch4': canal4})"
   ]
  },
  {
   "cell_type": "code",
   "execution_count": null,
   "id": "following-counter",
   "metadata": {},
   "outputs": [],
   "source": []
  }
 ],
 "metadata": {
  "kernelspec": {
   "display_name": "Python 3",
   "language": "python",
   "name": "python3"
  },
  "language_info": {
   "codemirror_mode": {
    "name": "ipython",
    "version": 3
   },
   "file_extension": ".py",
   "mimetype": "text/x-python",
   "name": "python",
   "nbconvert_exporter": "python",
   "pygments_lexer": "ipython3",
   "version": "3.8.5"
  }
 },
 "nbformat": 4,
 "nbformat_minor": 5
}
